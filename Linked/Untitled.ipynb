{
 "cells": [
  {
   "cell_type": "code",
   "execution_count": 11,
   "metadata": {},
   "outputs": [
    {
     "name": "stdout",
     "output_type": "stream",
     "text": [
      "1 2 3 4\n",
      "1 --> 2 --> 3 --> 4 --> None\n"
     ]
    }
   ],
   "source": [
    "class Node:\n",
    "    def __init__(self,data):\n",
    "        self.data=data\n",
    "        self.next=None\n",
    "def printLL(head):\n",
    "    while head is not None:\n",
    "        print(head.data,'-->',end=' ')\n",
    "        head=head.next\n",
    "    print('None')\n",
    "    return\n",
    "    \n",
    "def takeInput():\n",
    "    inputList=[int(ele) for ele in input().split()]\n",
    "    head=None\n",
    "    #tail=None\n",
    "    for currentE in inputList:\n",
    "        if currentE==-1:\n",
    "            break\n",
    "        new_Node=Node(currentE)\n",
    "        if head is None:\n",
    "            head=new_Node\n",
    "            #tail=new_Node\n",
    "        else:\n",
    "            #tail.next=new_Node\n",
    "            #tail=new_Node\n",
    "            #hear we are travesring to every node \n",
    "            #in each node comes to optimise that we crreated\n",
    "            #new tail and after every node it becomes points to next node\n",
    "            curr=head\n",
    "            while curr.next is not None:\n",
    "                curr=curr.next\n",
    "            curr.next =new_Node\n",
    "            \n",
    "    return head\n",
    "            \n",
    "head=takeInput()\n",
    "printLL(head)\n",
    "            \n",
    "        "
   ]
  },
  {
   "cell_type": "code",
   "execution_count": null,
   "metadata": {},
   "outputs": [],
   "source": []
  }
 ],
 "metadata": {
  "kernelspec": {
   "display_name": "Python 3",
   "language": "python",
   "name": "python3"
  },
  "language_info": {
   "codemirror_mode": {
    "name": "ipython",
    "version": 3
   },
   "file_extension": ".py",
   "mimetype": "text/x-python",
   "name": "python",
   "nbconvert_exporter": "python",
   "pygments_lexer": "ipython3",
   "version": "3.8.5"
  }
 },
 "nbformat": 4,
 "nbformat_minor": 4
}
