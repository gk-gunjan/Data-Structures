{
 "cells": [
  {
   "cell_type": "code",
   "execution_count": 18,
   "metadata": {},
   "outputs": [],
   "source": [
    "def Kadane_Algo(arr,n):\n",
    "    max_sum=-1e9\n",
    "    curr_sum=0\n",
    "    for i in range(n):\n",
    "        curr_sum+=arr[i]\n",
    "        if curr_sum<0:\n",
    "            curr_sum=0\n",
    "        if max_sum<curr_sum:\n",
    "            max_sum=curr_sum\n",
    "    return max_sum\n",
    "\n",
    "def maxi_sub_arr_sum(arr,n,m):\n",
    "    max_sum=-1e9\n",
    "    curr_sum=0\n",
    "    temp=[0]*n\n",
    "    for left in range(m):\n",
    "        for i in range(n):\n",
    "            temp[i]=0\n",
    "        for right in range(left,m):\n",
    "            for i in range(n):\n",
    "                temp[i]+=arr[i][right]\n",
    "            curr_sum=Kadane_Algo(temp,n)\n",
    "            if curr_sum>max_sum:\n",
    "                max_sum=curr_sum\n",
    "                \n",
    "    return max_sum"
   ]
  },
  {
   "cell_type": "code",
   "execution_count": 21,
   "metadata": {},
   "outputs": [
    {
     "name": "stdout",
     "output_type": "stream",
     "text": [
      " 2 2\n",
      "-1 1\n",
      "2 2\n",
      "4\n"
     ]
    }
   ],
   "source": [
    "li=[int(i) for i in input().split()]\n",
    "n=li[0]\n",
    "m=li[1]\n",
    "arr=[[int(ele) for ele in input().split()]for i in range(n)]\n",
    "ans=maxi_sub_arr_sum(arr,n,m)\n",
    "print(ans)"
   ]
  },
  {
   "cell_type": "code",
   "execution_count": null,
   "metadata": {},
   "outputs": [],
   "source": []
  }
 ],
 "metadata": {
  "kernelspec": {
   "display_name": "Python 3",
   "language": "python",
   "name": "python3"
  },
  "language_info": {
   "codemirror_mode": {
    "name": "ipython",
    "version": 3
   },
   "file_extension": ".py",
   "mimetype": "text/x-python",
   "name": "python",
   "nbconvert_exporter": "python",
   "pygments_lexer": "ipython3",
   "version": "3.8.5"
  }
 },
 "nbformat": 4,
 "nbformat_minor": 4
}
