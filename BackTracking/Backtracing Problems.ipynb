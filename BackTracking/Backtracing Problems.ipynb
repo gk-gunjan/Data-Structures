{
 "cells": [
  {
   "cell_type": "markdown",
   "metadata": {},
   "source": [
    "# possible path to reach at the last of matrix"
   ]
  },
  {
   "cell_type": "code",
   "execution_count": 18,
   "metadata": {},
   "outputs": [],
   "source": [
    "def printHelper(x,y,maze,n,ans):\n",
    "    if x==n-1 and y==n-1:\n",
    "        ans[x][y]=1\n",
    "        print(ans)\n",
    "        return\n",
    "    if x<0 or y<0 or x>=n or y>=n or maze[x][y]==0 or ans[x][y]==1:  #corner case or stopping points\n",
    "        return\n",
    "    ans[x][y]=1\n",
    "    printHelper(x+1,y,maze,n,ans) # iterate through row\n",
    "    printHelper(x,y+1,maze,n,ans) #iterate through col\n",
    "    printHelper(x-1,y,maze,n,ans) #iterate through -row\n",
    "    printHelper(x,y-1,maze,n,ans) #iterate through -col\n",
    "    ans[x][y]=0\n",
    "    \n",
    "    return"
   ]
  },
  {
   "cell_type": "code",
   "execution_count": 19,
   "metadata": {},
   "outputs": [],
   "source": [
    "def printMaze(maze):\n",
    "    n=len(maze)\n",
    "    ans=[[0 for i in range(n)]for j in range(n)]\n",
    "    printHelper(0,0,maze,n,ans)"
   ]
  },
  {
   "cell_type": "code",
   "execution_count": 17,
   "metadata": {},
   "outputs": [
    {
     "name": "stdout",
     "output_type": "stream",
     "text": [
      "4\n",
      "1 1 1 1\n",
      "1 0 1 1\n",
      "1 1 0 1\n",
      "1 1 1 1\n",
      "[[1, 0, 0, 0], [1, 0, 0, 0], [1, 0, 0, 0], [1, 1, 1, 1]]\n",
      "[[1, 0, 0, 0], [1, 0, 0, 0], [1, 1, 0, 0], [0, 1, 1, 1]]\n",
      "[[1, 1, 1, 0], [0, 0, 1, 1], [0, 0, 0, 1], [0, 0, 0, 1]]\n",
      "[[1, 1, 1, 1], [0, 0, 0, 1], [0, 0, 0, 1], [0, 0, 0, 1]]\n"
     ]
    }
   ],
   "source": [
    "n=int(input())\n",
    "maze=[]\n",
    "for i in range(n):\n",
    "    row=[int(ele) for ele in input().split()]\n",
    "    maze.append(row)\n",
    "printMaze(maze)"
   ]
  },
  {
   "cell_type": "markdown",
   "metadata": {},
   "source": [
    "# Q queen in the n*n matrix "
   ]
  },
  {
   "cell_type": "code",
   "execution_count": 51,
   "metadata": {},
   "outputs": [],
   "source": [
    "def isSafe(row,col,n,board): #checking no any other 1 is present in the path\n",
    "    i=row-1\n",
    "    while i>=0:\n",
    "        if board[i][col]==1:\n",
    "            return False\n",
    "        i-=1\n",
    "    i=row-1\n",
    "    j=col-1\n",
    "    while i>=0 and j>=0:\n",
    "        if board[i][j]==1:\n",
    "            return False\n",
    "        i-=1\n",
    "        j-=1\n",
    "    i=row-1\n",
    "    j=col+1\n",
    "    while i>=0 and j<n:\n",
    "        if board[i][j]==1:\n",
    "            return False\n",
    "        i-=1\n",
    "        j+=1\n",
    "    return True\n",
    "def printPathHelper(n,board,row): #base case if row is equal to lenth of n\n",
    "    if row==n:\n",
    "        for i in range(n):\n",
    "            for j in range(n):\n",
    "                print(board[i][j],end=' ')\n",
    "        print()\n",
    "        return\n",
    "    for col in range(n):  #checked if not any element is present then put 1 in that row and increment the row\n",
    "        if isSafe(row,col,n,board) is True:\n",
    "            board[row][col]=1\n",
    "            printPathHelper(n,board,row+1)\n",
    "            board[row][col]=0\n",
    "    return\n",
    "def qQueen(n): #main section to call the function\n",
    "    board=[[0 for i in range(n)]for j in range(n)]\n",
    "    printPathHelper(n,board,0)"
   ]
  },
  {
   "cell_type": "code",
   "execution_count": 52,
   "metadata": {},
   "outputs": [
    {
     "name": "stdout",
     "output_type": "stream",
     "text": [
      "4\n",
      "0 1 0 0 0 0 0 1 1 0 0 0 0 0 1 0 \n",
      "0 0 1 0 1 0 0 0 0 0 0 1 0 1 0 0 \n"
     ]
    }
   ],
   "source": [
    "n=int(input())\n",
    "qQueen(n)"
   ]
  },
  {
   "cell_type": "code",
   "execution_count": 54,
   "metadata": {},
   "outputs": [],
   "source": [
    "# 9 *9 sudoko solver \n",
    "## check weather sudoku can be solved or not"
   ]
  },
  {
   "cell_type": "code",
   "execution_count": null,
   "metadata": {},
   "outputs": [],
   "source": []
  }
 ],
 "metadata": {
  "kernelspec": {
   "display_name": "Python 3",
   "language": "python",
   "name": "python3"
  },
  "language_info": {
   "codemirror_mode": {
    "name": "ipython",
    "version": 3
   },
   "file_extension": ".py",
   "mimetype": "text/x-python",
   "name": "python",
   "nbconvert_exporter": "python",
   "pygments_lexer": "ipython3",
   "version": "3.8.5"
  }
 },
 "nbformat": 4,
 "nbformat_minor": 4
}
