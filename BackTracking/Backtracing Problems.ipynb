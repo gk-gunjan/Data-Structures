{
 "cells": [
  {
   "cell_type": "code",
   "execution_count": 8,
   "metadata": {},
   "outputs": [],
   "source": [
    "def printHelper(x,y,maze,n,ans):\n",
    "    if x==n-1 and y==n-1:\n",
    "        ans[x][y]=1\n",
    "        print(ans)\n",
    "        return\n",
    "    if x<0 or y<0 or x>=n or y>=n or maze[x][y]==0 or ans[x][y]==1:\n",
    "        return\n",
    "    ans[x][y]=1\n",
    "    printHelper(x+1,y,maze,n,ans)\n",
    "    printHelper(x,y+1,maze,n,ans)\n",
    "    printHelper(x-1,y,maze,n,ans)\n",
    "    printHelper(x,y-1,maze,n,ans)\n",
    "    ans[x][y]=0\n",
    "    \n",
    "    return"
   ]
  },
  {
   "cell_type": "code",
   "execution_count": 6,
   "metadata": {},
   "outputs": [],
   "source": [
    "def printMaze(maze):\n",
    "    n=len(maze)\n",
    "    ans=[[0 for i in range(n)]for j in range(n)]\n",
    "    printHelper(0,0,maze,n,ans)"
   ]
  },
  {
   "cell_type": "code",
   "execution_count": 11,
   "metadata": {},
   "outputs": [
    {
     "name": "stdout",
     "output_type": "stream",
     "text": [
      "4\n",
      "1 1 1 1\n",
      "1 0 1 1\n",
      "1 1 0 1\n",
      "1 1 1 1\n",
      "[[1, 0, 0, 0], [1, 0, 0, 0], [1, 0, 0, 0], [1, 1, 1, 1]]\n",
      "[[1, 0, 0, 0], [1, 0, 0, 0], [1, 1, 0, 0], [0, 1, 1, 1]]\n",
      "[[1, 1, 1, 0], [0, 0, 1, 1], [0, 0, 0, 1], [0, 0, 0, 1]]\n",
      "[[1, 1, 1, 1], [0, 0, 0, 1], [0, 0, 0, 1], [0, 0, 0, 1]]\n"
     ]
    }
   ],
   "source": [
    "n=int(input())\n",
    "maze=[]\n",
    "for i in range(n):\n",
    "    row=[int(ele) for ele in input().split()]\n",
    "    maze.append(row)\n",
    "printMaze(maze)"
   ]
  },
  {
   "cell_type": "code",
   "execution_count": null,
   "metadata": {},
   "outputs": [],
   "source": []
  }
 ],
 "metadata": {
  "kernelspec": {
   "display_name": "Python 3",
   "language": "python",
   "name": "python3"
  },
  "language_info": {
   "codemirror_mode": {
    "name": "ipython",
    "version": 3
   },
   "file_extension": ".py",
   "mimetype": "text/x-python",
   "name": "python",
   "nbconvert_exporter": "python",
   "pygments_lexer": "ipython3",
   "version": "3.8.5"
  }
 },
 "nbformat": 4,
 "nbformat_minor": 4
}
