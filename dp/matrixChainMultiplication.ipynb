{
 "cells": [
  {
   "cell_type": "code",
   "execution_count": 2,
   "metadata": {},
   "outputs": [],
   "source": [
    "import sys"
   ]
  },
  {
   "cell_type": "code",
   "execution_count": 14,
   "metadata": {},
   "outputs": [],
   "source": [
    "def mcm(arr,i,j):\n",
    "    if i==j:\n",
    "        return 0\n",
    "    min_value=sys.maxsize\n",
    "    for k in range(i,j):\n",
    "        ans1=mcm(arr,i,k)\n",
    "        ans2=mcm(arr,k+1,j)\n",
    "        mCost=arr[i-1]*arr[k]*arr[j]\n",
    "        curr_value=ans1+ans2+mCost\n",
    "        min_value=min(curr_value,min_value)\n",
    "    return min_value\n",
    "        \n",
    "    \n",
    "def mcm(arr,i,j,dp):\n",
    "    if i==j:\n",
    "        return 0\n",
    "    min_value=sys.maxsize\n",
    "    for k in range(i,j):\n",
    "        if dp[i][k]==-1:\n",
    "            ans1=mcm(arr,i,k,dp)\n",
    "            dp[i][k]=ans1\n",
    "        else:\n",
    "            ans1=dp[i][k]\n",
    "            \n",
    "        if dp[k+1][j]==-1:\n",
    "            ans2=mcm(arr,k+1,j,dp)\n",
    "            dp[k+1][j]=ans2\n",
    "        else:\n",
    "            ans2=dp[k+1][j]\n",
    "            \n",
    "        mCost=arr[i-1]*arr[k]*arr[j]\n",
    "        curr_value=ans1+ans2+mCost\n",
    "        min_value=min(curr_value,min_value)\n",
    "    return min_value   "
   ]
  },
  {
   "cell_type": "code",
   "execution_count": 13,
   "metadata": {},
   "outputs": [
    {
     "name": "stdout",
     "output_type": "stream",
     "text": [
      "150\n"
     ]
    }
   ],
   "source": [
    "arr =[3,4,5,6]\n",
    "n=len(arr)-1\n",
    "dp=[[-1 for j in range(n+1)] for i in range(n+1)]\n",
    "#using memoization\n",
    "ans=mcm(arr,1,n,dp)\n",
    "#ans=mcm(arr,1,n)\n",
    "print(ans)"
   ]
  },
  {
   "cell_type": "code",
   "execution_count": null,
   "metadata": {},
   "outputs": [],
   "source": []
  }
 ],
 "metadata": {
  "kernelspec": {
   "display_name": "Python 3",
   "language": "python",
   "name": "python3"
  },
  "language_info": {
   "codemirror_mode": {
    "name": "ipython",
    "version": 3
   },
   "file_extension": ".py",
   "mimetype": "text/x-python",
   "name": "python",
   "nbconvert_exporter": "python",
   "pygments_lexer": "ipython3",
   "version": "3.8.5"
  }
 },
 "nbformat": 4,
 "nbformat_minor": 4
}
