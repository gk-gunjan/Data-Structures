{
 "cells": [
  {
   "cell_type": "code",
   "execution_count": 2,
   "metadata": {},
   "outputs": [],
   "source": [
    "import sys"
   ]
  },
  {
   "cell_type": "code",
   "execution_count": 5,
   "metadata": {},
   "outputs": [],
   "source": [
    "def mcm(arr,i,j):\n",
    "    if i==j:\n",
    "        return 0\n",
    "    min_value=sys.maxsize\n",
    "    for k in range(i,j):\n",
    "        ans1=mcm(arr,i,k)\n",
    "        ans2=mcm(arr,k+1,j)\n",
    "        mCost=arr[i-1]*arr[k]*arr[j]\n",
    "        curr_value=ans1+ans2+mCost\n",
    "        min_value=min(curr_value,min_value)\n",
    "    return min_value\n",
    "        \n",
    "    \n",
    "def mcm(arr,i,j,dp):\n",
    "    if i==j:\n",
    "        return 0\n",
    "    min_value=sys.maxsize\n",
    "    for k in range(i,j):\n",
    "        if dp[i][k]==-1:\n",
    "            ans1=mcm(arr,i,k,dp)\n",
    "            dp[i][k]=ans1\n",
    "        else:\n",
    "            ans1=dp[i][k]\n",
    "            \n",
    "        if dp[k+1][j]==-1:\n",
    "            ans2=mcm(arr,k+1,j,dp)\n",
    "            dp[k+1][j]=ans2\n",
    "        else:\n",
    "            ans2=dp[k+1][j]\n",
    "            \n",
    "        mCost=arr[i-1]*arr[k]*arr[j]\n",
    "        curr_value=ans1+ans2+mCost\n",
    "        min_value=min(curr_value,min_value)\n",
    "    return min_valu\n",
    "            \n",
    "    "
   ]
  },
  {
   "cell_type": "code",
   "execution_count": 9,
   "metadata": {},
   "outputs": [
    {
     "ename": "TypeError",
     "evalue": "mcm() takes 3 positional arguments but 4 were given",
     "output_type": "error",
     "traceback": [
      "\u001b[0;31m--------------------------------------------------------------------------\u001b[0m",
      "\u001b[0;31mTypeError\u001b[0m                                Traceback (most recent call last)",
      "\u001b[0;32m<ipython-input-9-774441dc11b0>\u001b[0m in \u001b[0;36m<module>\u001b[0;34m\u001b[0m\n\u001b[1;32m      3\u001b[0m \u001b[0mdp\u001b[0m\u001b[0;34m=\u001b[0m\u001b[0;34m[\u001b[0m\u001b[0;34m[\u001b[0m\u001b[0;34m-\u001b[0m\u001b[0;36m1\u001b[0m \u001b[0;32mfor\u001b[0m \u001b[0mj\u001b[0m \u001b[0;32min\u001b[0m \u001b[0mrange\u001b[0m\u001b[0;34m(\u001b[0m\u001b[0mn\u001b[0m\u001b[0;34m+\u001b[0m\u001b[0;36m1\u001b[0m\u001b[0;34m)\u001b[0m\u001b[0;34m]\u001b[0m \u001b[0;32mfor\u001b[0m \u001b[0mi\u001b[0m \u001b[0;32min\u001b[0m \u001b[0mrange\u001b[0m\u001b[0;34m(\u001b[0m\u001b[0mn\u001b[0m\u001b[0;34m+\u001b[0m\u001b[0;36m1\u001b[0m\u001b[0;34m)\u001b[0m\u001b[0;34m]\u001b[0m\u001b[0;34m\u001b[0m\u001b[0;34m\u001b[0m\u001b[0m\n\u001b[1;32m      4\u001b[0m \u001b[0;31m#using memoization\u001b[0m\u001b[0;34m\u001b[0m\u001b[0;34m\u001b[0m\u001b[0;34m\u001b[0m\u001b[0m\n\u001b[0;32m----> 5\u001b[0;31m \u001b[0mans\u001b[0m\u001b[0;34m=\u001b[0m\u001b[0mmcm\u001b[0m\u001b[0;34m(\u001b[0m\u001b[0marr\u001b[0m\u001b[0;34m,\u001b[0m\u001b[0;36m1\u001b[0m\u001b[0;34m,\u001b[0m\u001b[0mn\u001b[0m\u001b[0;34m,\u001b[0m\u001b[0mdp\u001b[0m\u001b[0;34m)\u001b[0m\u001b[0;34m\u001b[0m\u001b[0;34m\u001b[0m\u001b[0m\n\u001b[0m\u001b[1;32m      6\u001b[0m \u001b[0;31m#ans=mcm(arr,1,n)\u001b[0m\u001b[0;34m\u001b[0m\u001b[0;34m\u001b[0m\u001b[0;34m\u001b[0m\u001b[0m\n\u001b[1;32m      7\u001b[0m \u001b[0mprint\u001b[0m\u001b[0;34m(\u001b[0m\u001b[0mans\u001b[0m\u001b[0;34m)\u001b[0m\u001b[0;34m\u001b[0m\u001b[0;34m\u001b[0m\u001b[0m\n",
      "\u001b[0;31mTypeError\u001b[0m: mcm() takes 3 positional arguments but 4 were given"
     ]
    }
   ],
   "source": [
    "arr =[3,4,5,6]\n",
    "n=len(arr)-1\n",
    "dp=[[-1 for j in range(n+1)] for i in range(n+1)]\n",
    "#using memoization\n",
    "ans=mcm(arr,1,n,dp)\n",
    "#ans=mcm(arr,1,n)\n",
    "print(ans)"
   ]
  },
  {
   "cell_type": "code",
   "execution_count": null,
   "metadata": {},
   "outputs": [],
   "source": []
  }
 ],
 "metadata": {
  "kernelspec": {
   "display_name": "Python 3",
   "language": "python",
   "name": "python3"
  },
  "language_info": {
   "codemirror_mode": {
    "name": "ipython",
    "version": 3
   },
   "file_extension": ".py",
   "mimetype": "text/x-python",
   "name": "python",
   "nbconvert_exporter": "python",
   "pygments_lexer": "ipython3",
   "version": "3.8.5"
  }
 },
 "nbformat": 4,
 "nbformat_minor": 4
}
