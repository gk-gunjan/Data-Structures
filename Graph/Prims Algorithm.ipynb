{
 "cells": [
  {
   "cell_type": "code",
   "execution_count": 10,
   "metadata": {},
   "outputs": [],
   "source": [
    "import sys\n",
    "class Graph:\n",
    "    def __init__(self,nVertices):\n",
    "        self.nVertices=nVertices\n",
    "        self.adjMat=[[0 for j in range(nVertices)]for  i in range(nVertices)]\n",
    "        \n",
    "        \n",
    "    def addEdge(self,v1,v2,wt):\n",
    "        self.adjMat[v1][v2]=wt\n",
    "        self.adjMat[v2][v1]=wt\n",
    "        \n",
    "    def __getMinVertex(self,visited,weight):\n",
    "        min_vertex=-1\n",
    "        for i in range(self.nVertices):\n",
    "            if visited[i] is False and (min_vertex==-1 or weight[min_vertex]>weight[i]):\n",
    "                min_vertex=i\n",
    "                \n",
    "                \n",
    "        return min_vertex\n",
    "                \n",
    "    \n",
    "    def prims(self):\n",
    "        visited=[False for i in range(self.nVertices)]\n",
    "        weight=[sys.maxsize for i in range(self.nVertices)]\n",
    "        parent=[-1 for i in range(self.nVertices)]\n",
    "        weight[0]=0\n",
    "        for i in range(self.nVertices-1):\n",
    "            min_vertex=self.__getMinVertex(visited,weight)\n",
    "            visited[min_vertex]=True\n",
    "            #exploring the neighbour of minvertex which is not visited \n",
    "            #and update the weight corresponding to that if requires\n",
    "            for j in range(self.nVertices):\n",
    "                if self.adjMat[j][min_vertex]>0 and visited[j] is False :\n",
    "                    if self.adjMat[j][min_vertex]<weight[j]:\n",
    "                        weight[j]=self.adjMat[j][min_vertex]\n",
    "                        parent[j]=min_vertex\n",
    "        print('Minimum Spanning Tree for Prims Algorithm')               \n",
    "        for i in range(1,self.nVertices):\n",
    "            if i <parent[i]:\n",
    "                print(str(i)+\" \"+str(parent[i])+\" \"+str(weight[i]))\n",
    "            else:\n",
    "                print(str(parent[i])+\" \"+str(i)+\" \"+str(weight[i]))"
   ]
  },
  {
   "cell_type": "code",
   "execution_count": 2,
   "metadata": {},
   "outputs": [],
   "source": [
    "#input taken and base or main"
   ]
  },
  {
   "cell_type": "code",
   "execution_count": null,
   "metadata": {},
   "outputs": [
    {
     "name": "stdout",
     "output_type": "stream",
     "text": [
      "5 7\n",
      "0 1 4\n",
      "0 2 8\n"
     ]
    }
   ],
   "source": [
    "\n",
    "li=[int(i) for i in input().split()]\n",
    "n=li[0]\n",
    "E=li[1]\n",
    "g=Graph(n)\n",
    "for i in range(E):\n",
    "    curr_ele=[int(ele) for ele in input().split()]\n",
    "    g.addEdge(curr_ele[0],curr_ele[1],curr_ele[2])\n",
    "g.prims()\n",
    "    "
   ]
  },
  {
   "cell_type": "code",
   "execution_count": null,
   "metadata": {},
   "outputs": [],
   "source": []
  }
 ],
 "metadata": {
  "kernelspec": {
   "display_name": "Python 3",
   "language": "python",
   "name": "python3"
  },
  "language_info": {
   "codemirror_mode": {
    "name": "ipython",
    "version": 3
   },
   "file_extension": ".py",
   "mimetype": "text/x-python",
   "name": "python",
   "nbconvert_exporter": "python",
   "pygments_lexer": "ipython3",
   "version": "3.8.5"
  }
 },
 "nbformat": 4,
 "nbformat_minor": 4
}
