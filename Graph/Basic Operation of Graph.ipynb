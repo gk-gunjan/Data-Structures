{
 "cells": [
  {
   "cell_type": "code",
   "execution_count": 10,
   "metadata": {},
   "outputs": [],
   "source": [
    "# simple graph implementation"
   ]
  },
  {
   "cell_type": "code",
   "execution_count": 168,
   "metadata": {},
   "outputs": [],
   "source": [
    "import queue\n",
    "class Graph:\n",
    "    def __init__(self,nVertices):\n",
    "        self.nVertices=nVertices\n",
    "        self.adjmatrix=[[0 for j in range(nVertices)]for i in range(nVertices)]\n",
    "        \n",
    "    def addEdge(self,v1,v2):\n",
    "        self.adjmatrix[v1][v2]=1\n",
    "        self.adjmatrix[v2][v1]=1\n",
    "    def removeEge(self,v1,v2):\n",
    "        if self.containEdge(v1,v2) is False:\n",
    "            return\n",
    "        \n",
    "        self.adjmatrix[v1][v2]=0\n",
    "        self.adjmatrix[v2][v1]=0\n",
    "    def __dfshelper(self,sv,visited):\n",
    "        print(sv)\n",
    "        visited[sv]=True\n",
    "        for i in range(self.nVertices):\n",
    "            if (self.adjmatrix[sv][i]>0 and not visited[i]):\n",
    "                self.__dfshelper(i,visited)\n",
    "                #visited=True\n",
    "    \n",
    "    def dfs(self):\n",
    "        visited=[False for i in range(self.nVertices)]\n",
    "        for i in range(self.nVertices):\n",
    "            if not visited[i]:\n",
    "                self.__dfshelper(i,visited)\n",
    "        \n",
    "    def bfs(self):\n",
    "        visited=[False for i in range(self.nVertices)]\n",
    "        q=queue.Queue()\n",
    "        q.put(0)\n",
    "        visited[0]=True\n",
    "        while q.empty() is False:\n",
    "            u=q.get()\n",
    "            print(u)\n",
    "            for i in range(self.nVertices):\n",
    "                if (self.adjmatrix[u][i]>0 and not visited[i]):\n",
    "                    q.put(i)\n",
    "                    visited[i]=True        \n",
    "    def __hasPathHelper(self,sv,ev,visited):\n",
    "        if sv==ev:\n",
    "            return True\n",
    "        visited[sv]=True\n",
    "        \n",
    "        for i in range(self.nVertices):\n",
    "            if self.adjmatrix[sv][i]>0 and not visited[i]:\n",
    "                if i==ev:\n",
    "                    return True\n",
    "                self.__hasPathHelper(i,ev,visited)\n",
    "        return False\n",
    "            \n",
    "    \n",
    "    def hasPath(self,sv,ev):\n",
    "        visited=[False for i in range(self.nVertices)]\n",
    "        res=self.__hasPathHelper(sv,ev,visited)\n",
    "        #res=self.__bfsPathHelper(sv,ev,visited)\n",
    "        if res:\n",
    "            return 'true'\n",
    "        else:\n",
    "            return 'false'\n",
    "    def __bfsPathHelper(self,v1,v2,visited):\n",
    "        q=queue.Queue()\n",
    "        q.put(v1)\n",
    "        visited[v1]=True\n",
    "        while q.empty() is False:\n",
    "            u=q.get()\n",
    "            for i in range(self.nVertices):\n",
    "                if self.adjmatrix[u][i]>0 and visited[i] is False :\n",
    "                    if i==v2:\n",
    "                        return True\n",
    "                    q.put(i)\n",
    "                    visited[i]=True\n",
    "        return False\n",
    "    \n",
    "    def containEdge(self,v1,v2):\n",
    "        return True if self.adjmatrix[v1][v2]>0 else False\n",
    "    \n",
    "    def __str__(self):\n",
    "        return str(self.adjmatrix)\n",
    "    \n",
    "    def __getPathHelper(self,v1,v2,visited):\n",
    "        if v1==v2:\n",
    "            return list([v1])\n",
    "        visited[v1]=True\n",
    "        for i in range(self.nVertices):\n",
    "            if self.adjmatrix[i][v1]>0 and visited[i] is False:\n",
    "                li=self.__getPathHepler(i,v2,visited)\n",
    "                if li!=None:\n",
    "                    li.append(i)\n",
    "                    return li\n",
    "        return None\n",
    "    \n",
    "    def dfsGetPath(self,v1,v2):\n",
    "        visited=[False for i in range(self.nVertices)]\n",
    "        return self.__getPathHelper(v1,v2,visited)\n",
    "    "
   ]
  },
  {
   "cell_type": "code",
   "execution_count": 167,
   "metadata": {},
   "outputs": [
    {
     "name": "stdout",
     "output_type": "stream",
     "text": [
      "[[0, 1, 0, 1], [1, 0, 1, 0], [0, 1, 0, 1], [1, 0, 1, 0]]\n"
     ]
    }
   ],
   "source": [
    "g=Graph(4)\n",
    "g.addEdge(0,1)\n",
    "g.addEdge(0,3)\n",
    "g.addEdge(1,2)\n",
    "g.addEdge(2,3)\n",
    "#print(g)\n",
    "g.dfsGetPath(1,3)"
   ]
  },
  {
   "cell_type": "code",
   "execution_count": 149,
   "metadata": {},
   "outputs": [],
   "source": [
    "## Get path"
   ]
  },
  {
   "cell_type": "code",
   "execution_count": 159,
   "metadata": {},
   "outputs": [],
   "source": [
    "class Graph:\n",
    "    def __init__(self,nVertices):\n",
    "        self.nVertices=nVertices\n",
    "        self.adjmatrix=[[0 for j in range(nVertices)]for i in range(nVertices)]\n",
    "        \n",
    "    def addEdge(self,v1,v2):\n",
    "        self.adjmatrix[v1][v2]=1\n",
    "        self.adjmatrix[v2][v1]=1\n",
    "        \n",
    "    def removeEge(self,v1,v2):\n",
    "        if self.containEdge(v1,v2) is False:\n",
    "            return\n",
    "        \n",
    "        self.adjmatrix[v1][v2]=0\n",
    "        self.adjmatrix[v2][v1]=0\n",
    "        \n",
    "    \n",
    "        \n",
    "    def __getPathHelper(self,v1,v2,visited):\n",
    "        if v1==v2:\n",
    "            return list([v1])\n",
    "        visited[v1]=True\n",
    "        for i in range(self.nVertices):\n",
    "            if self.adjmatrix[i][v1]>0 and visited[i] is False:\n",
    "                li=self.__getPathHepler(i,v2,visited)\n",
    "                if li!=None:\n",
    "                    li.append(i)\n",
    "                    return li\n",
    "        return None\n",
    "        \n",
    "    def dfsGetPath(self,v1,v2):\n",
    "        visited=[False for i in range(self.nVertices)]\n",
    "        return self.__getPathHelper(v1,v2,visited)\n",
    "    \n",
    "    def containEdge(self,v1,v2):\n",
    "        return True if self.adjmatrix[v1][v2]>0 else False\n",
    "    \n",
    "    def __str__(self):\n",
    "        return str(self.adjmatrix)\n",
    "        \n",
    "    "
   ]
  },
  {
   "cell_type": "code",
   "execution_count": null,
   "metadata": {},
   "outputs": [],
   "source": []
  },
  {
   "cell_type": "code",
   "execution_count": 170,
   "metadata": {},
   "outputs": [],
   "source": [
    "## isConnected graph or not"
   ]
  },
  {
   "cell_type": "code",
   "execution_count": 187,
   "metadata": {},
   "outputs": [],
   "source": [
    "class Graph:\n",
    "    def __init__(self,nVertices):\n",
    "        self.nVertices=nVertices\n",
    "        self.adjmat=[[0 for j in range(nVertices)]for i in range(nVertices)]\n",
    "        \n",
    "    def addEdge(self,v1,v2):\n",
    "        self.adjmat[v1][v2]=1\n",
    "        self.adjmat[v2][v1]=1\n",
    "        \n",
    "    def containEdge(self,v1,v2):\n",
    "        return True if self.adjmat[v1][v2]>0 else False\n",
    "    \n",
    "    def get_dsf_connect(self,v1,visited):\n",
    "        visited[v1]=True\n",
    "        \n",
    "        for i in range(self.nVertices):\n",
    "            if self.adjmat[i][v1] >0 and visited[i] is False :\n",
    "                self.get_dsf_connect(i,visited)\n",
    "                visited[i]=True\n",
    "        \n",
    "    def connected(self):\n",
    "        visited=[False for i in range(self.nVertices)]\n",
    "        self.get_dsf_connect(0,visited)\n",
    "        print(visited)\n",
    "        for value in visited:\n",
    "            if value:\n",
    "                return True\n",
    "            else:\n",
    "                return False\n",
    "        \n",
    "    \n",
    "    def removeEdge(self,v1,v2):\n",
    "        if self.containEdge(v1,v2) is False:\n",
    "            return\n",
    "        self.adjmat[v1][v2]=0\n",
    "        self.adjmat[v2][v1]=0\n",
    "        \n",
    "    def __str__(self):\n",
    "        return str(self.adjmat)"
   ]
  },
  {
   "cell_type": "code",
   "execution_count": 189,
   "metadata": {},
   "outputs": [
    {
     "name": "stdout",
     "output_type": "stream",
     "text": [
      "[True, True, True, False, False, False]\n"
     ]
    },
    {
     "data": {
      "text/plain": [
       "True"
      ]
     },
     "execution_count": 189,
     "metadata": {},
     "output_type": "execute_result"
    }
   ],
   "source": [
    "g=Graph(6)\n",
    "g.addEdge(0,1)\n",
    "g.addEdge(1,2)\n",
    "g.addEdge(4,5)\n",
    "#print(g)\n",
    "g.connected()"
   ]
  },
  {
   "cell_type": "code",
   "execution_count": null,
   "metadata": {},
   "outputs": [],
   "source": []
  },
  {
   "cell_type": "code",
   "execution_count": null,
   "metadata": {},
   "outputs": [],
   "source": []
  }
 ],
 "metadata": {
  "kernelspec": {
   "display_name": "Python 3",
   "language": "python",
   "name": "python3"
  },
  "language_info": {
   "codemirror_mode": {
    "name": "ipython",
    "version": 3
   },
   "file_extension": ".py",
   "mimetype": "text/x-python",
   "name": "python",
   "nbconvert_exporter": "python",
   "pygments_lexer": "ipython3",
   "version": "3.8.5"
  }
 },
 "nbformat": 4,
 "nbformat_minor": 4
}
