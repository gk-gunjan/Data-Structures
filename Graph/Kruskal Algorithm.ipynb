{
 "cells": [
  {
   "cell_type": "markdown",
   "metadata": {},
   "source": [
    "# krusukal's Algorithm"
   ]
  },
  {
   "cell_type": "code",
   "execution_count": 4,
   "metadata": {},
   "outputs": [
    {
     "name": "stdout",
     "output_type": "stream",
     "text": [
      "4 4\n",
      "0 1 3\n",
      "0 3 5\n",
      "1 2 1\n",
      "2 3 8\n",
      "Minimum Spanning Tree is: \n",
      "1 2 1\n",
      "0 1 3\n",
      "0 3 5\n"
     ]
    }
   ],
   "source": [
    "class Edge:\n",
    "    def __init__(self,src,dest,wt):\n",
    "        self.src=src\n",
    "        self.dest=dest\n",
    "        self.wt=wt\n",
    "        \n",
    "def getparent(v,parent):\n",
    "    if v ==parent[v]:\n",
    "        return v #if parent is equal to index of array return index \n",
    "    return getparent(parent[v],parent) #other wise get me the parent of that idnex\n",
    "        \n",
    "def kurskal(edges,nVertices):\n",
    "    parent=[int(i) for i in range(nVertices)]\n",
    "    edges=sorted(edges,key=lambda x:x.wt) #give access to the object of the edges then based n that we sort\n",
    "    count=0\n",
    "    output=[]\n",
    "    i=0\n",
    "    while count<(nVertices-1): #count will stop when edges are one less than vertices as it avoide to make circular loop btw vertices\n",
    "        curr_edge =edges[i]  #1st index of class edges we defined \n",
    "        src_parent=getparent(curr_edge.src,parent) #src_parent will be based on curr edge and overall parent  \n",
    "        dest_parent=getparent(curr_edge.dest,parent) #same as src parent \n",
    "             #parent will be decide on basis of union find algorithm where we \n",
    "                # we find the union of parent on basis of edge_index ==parent[edge_index] other than that we change on basis \n",
    "                #of parant of parent index\n",
    "                \n",
    "              #we are geeting parent of src and dest and we are changing according to the parent equal to given index  \n",
    "        if src_parent !=dest_parent:\n",
    "            output.append(curr_edge)\n",
    "            count+=1\n",
    "            parent[src_parent]=dest_parent\n",
    "        i+=1\n",
    "        \n",
    "        \n",
    "    return output\n",
    "                    \n",
    "li=[int(ele) for ele in input().split()]\n",
    "n=li[0]\n",
    "E=li[1]\n",
    "edges=[]\n",
    "for i in range(E):\n",
    "    curr_input=[int(ele) for ele in input().split()]\n",
    "    src=curr_input[0]\n",
    "    dest=curr_input[1]\n",
    "    wt=curr_input[2]\n",
    "    edge=Edge(src,dest,wt)\n",
    "    edges.append(edge)\n",
    "output=kurskal(edges,n)\n",
    "print('Minimum Spanning Tree is: ')\n",
    "for edge in output:\n",
    "    if edge.src<edge.dest:\n",
    "        print(str(edge.src)+ \" \"+ str(edge.dest) + \" \" + str(edge.wt))\n",
    "    else:\n",
    "        print(str(edge.dest)+ \" \" +str(edge.src)+ \" \" + str(edge.wt))\n",
    "    \n",
    "    "
   ]
  },
  {
   "cell_type": "code",
   "execution_count": null,
   "metadata": {},
   "outputs": [],
   "source": []
  }
 ],
 "metadata": {
  "kernelspec": {
   "display_name": "Python 3",
   "language": "python",
   "name": "python3"
  },
  "language_info": {
   "codemirror_mode": {
    "name": "ipython",
    "version": 3
   },
   "file_extension": ".py",
   "mimetype": "text/x-python",
   "name": "python",
   "nbconvert_exporter": "python",
   "pygments_lexer": "ipython3",
   "version": "3.8.5"
  }
 },
 "nbformat": 4,
 "nbformat_minor": 4
}
