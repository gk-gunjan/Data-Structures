{
 "cells": [
  {
   "cell_type": "code",
   "execution_count": 21,
   "metadata": {},
   "outputs": [],
   "source": [
    "class Node:\n",
    "    def __init__(self,data):\n",
    "        self.data=data\n",
    "        self.next=None\n",
    "        \n",
    "class Stack:\n",
    "    def __init__(self):\n",
    "        self.__head=None\n",
    "        self.__count=0\n",
    "        \n",
    "    def isSize(self):\n",
    "        return self.__count\n",
    "    \n",
    "    def isEmpty(self):\n",
    "        return self.isSize()==0\n",
    "    \n",
    "    def top(self):\n",
    "        if self.isEmpty():\n",
    "            return -1\n",
    "        return self.__head.data\n",
    "    \n",
    "    def push(self,data):\n",
    "        newNode=Node(data)\n",
    "        if self.__head is None:\n",
    "            self.__head=newNode\n",
    "            self.__count+=1\n",
    "        else:\n",
    "            newNode.next=self.__head\n",
    "            self.__head=newNode\n",
    "            self.__count+=1\n",
    "            \n",
    "    def pop(self):\n",
    "        if self.isEmpty() is None:\n",
    "            return -1\n",
    "        data=self.__head.data\n",
    "        self.__head=self.__head.next\n",
    "        self.__count-=1\n",
    "                    "
   ]
  },
  {
   "cell_type": "code",
   "execution_count": null,
   "metadata": {},
   "outputs": [],
   "source": []
  },
  {
   "cell_type": "code",
   "execution_count": null,
   "metadata": {},
   "outputs": [],
   "source": []
  }
 ],
 "metadata": {
  "kernelspec": {
   "display_name": "Python 3",
   "language": "python",
   "name": "python3"
  },
  "language_info": {
   "codemirror_mode": {
    "name": "ipython",
    "version": 3
   },
   "file_extension": ".py",
   "mimetype": "text/x-python",
   "name": "python",
   "nbconvert_exporter": "python",
   "pygments_lexer": "ipython3",
   "version": "3.8.5"
  }
 },
 "nbformat": 4,
 "nbformat_minor": 4
}
