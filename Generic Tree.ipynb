{
 "cells": [
  {
   "cell_type": "code",
   "execution_count": 4,
   "metadata": {},
   "outputs": [],
   "source": [
    "class TreeNode:\n",
    "    def __init__(self,data):\n",
    "        self.data=data\n",
    "        self.children=list()    "
   ]
  },
  {
   "cell_type": "code",
   "execution_count": 5,
   "metadata": {},
   "outputs": [],
   "source": [
    "def printTree(root):\n",
    "    #not a base case but a edge case\n",
    "    if root is None:\n",
    "        return\n",
    "    print(root.data)\n",
    "    for child in root.children:\n",
    "        printTree(child)"
   ]
  },
  {
   "cell_type": "code",
   "execution_count": null,
   "metadata": {},
   "outputs": [],
   "source": [
    "def printTreeDetail(root):\n",
    "    if root is None:\n",
    "        return\n",
    "    print(root.data,\":\",end='')\n",
    "    for child in root.children:\n",
    "        print(child.data,\",\",end='')"
   ]
  },
  {
   "cell_type": "code",
   "execution_count": 8,
   "metadata": {},
   "outputs": [
    {
     "name": "stdout",
     "output_type": "stream",
     "text": [
      "5\n",
      "4\n",
      "17\n",
      "25\n",
      "42\n",
      "14\n",
      "50\n",
      "15\n",
      "40\n",
      "44\n"
     ]
    }
   ],
   "source": [
    "c1=TreeNode(5)\n",
    "c2=TreeNode(4)\n",
    "c3=TreeNode(17)\n",
    "c4=TreeNode(14)\n",
    "c5=TreeNode(50)\n",
    "c6=TreeNode(44)\n",
    "c7=TreeNode(25)\n",
    "c8=TreeNode(42)\n",
    "c9=TreeNode(15)\n",
    "c10=TreeNode(40)\n",
    "\n",
    "c1.children.append(c2)\n",
    "c1.children.append(c3)\n",
    "c1.children.append(c4)\n",
    "c1.children.append(c5)\n",
    "c1.children.append(c6)\n",
    "c3.children.append(c7)\n",
    "c3.children.append(c8)\n",
    "c5.children.append(c9)\n",
    "c5.children.append(c10)\n",
    "printTree(c1)\n",
    "\n"
   ]
  },
  {
   "cell_type": "code",
   "execution_count": null,
   "metadata": {},
   "outputs": [],
   "source": []
  }
 ],
 "metadata": {
  "kernelspec": {
   "display_name": "Python 3",
   "language": "python",
   "name": "python3"
  },
  "language_info": {
   "codemirror_mode": {
    "name": "ipython",
    "version": 3
   },
   "file_extension": ".py",
   "mimetype": "text/x-python",
   "name": "python",
   "nbconvert_exporter": "python",
   "pygments_lexer": "ipython3",
   "version": "3.8.5"
  }
 },
 "nbformat": 4,
 "nbformat_minor": 4
}
